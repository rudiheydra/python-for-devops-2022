{
  "nbformat": 4,
  "nbformat_minor": 0,
  "metadata": {
    "colab": {
      "name": "Getting-started-python-devops.ipynb",
      "provenance": [],
      "toc_visible": true,
      "authorship_tag": "ABX9TyPxV4A1kp01fuZ/sx0XVk5C",
      "include_colab_link": true
    },
    "kernelspec": {
      "name": "python3",
      "display_name": "Python 3"
    },
    "language_info": {
      "name": "python"
    }
  },
  "cells": [
    {
      "cell_type": "markdown",
      "metadata": {
        "id": "view-in-github",
        "colab_type": "text"
      },
      "source": [
        "<a href=\"https://colab.research.google.com/github/rudiheydra/python-for-devops-2022/blob/main/Getting_started_python_devops.ipynb\" target=\"_parent\"><img src=\"https://colab.research.google.com/assets/colab-badge.svg\" alt=\"Open In Colab\"/></a>"
      ]
    },
    {
      "cell_type": "markdown",
      "source": [
        "Introduction to Python for Devops\n"
      ],
      "metadata": {
        "id": "fQVz6WNyqxrt"
      }
    },
    {
      "cell_type": "markdown",
      "source": [
        "# Python for Devops"
      ],
      "metadata": {
        "id": "AbTVZ6hUrMS5"
      }
    },
    {
      "cell_type": "markdown",
      "source": [
        "## Introduction to Python for Devops"
      ],
      "metadata": {
        "id": "7OZyMC8JrUN2"
      }
    },
    {
      "cell_type": "markdown",
      "source": [
        "### Statements in Python"
      ],
      "metadata": {
        "id": "YXSJ-OsRrN9m"
      }
    },
    {
      "cell_type": "code",
      "source": [
        "print(\"Hello World\")"
      ],
      "metadata": {
        "colab": {
          "base_uri": "https://localhost:8080/"
        },
        "id": "JGkTueAsrvd-",
        "outputId": "bda1221c-ab66-4d28-c4b0-9d9350e37f25"
      },
      "execution_count": 3,
      "outputs": [
        {
          "output_type": "stream",
          "name": "stdout",
          "text": [
            "Hello World\n"
          ]
        }
      ]
    },
    {
      "cell_type": "code",
      "source": [
        "name = \"Rudi\"\n",
        "print(f\"Hello {name}\")"
      ],
      "metadata": {
        "colab": {
          "base_uri": "https://localhost:8080/"
        },
        "id": "6M_yxpHWr2b9",
        "outputId": "4eb1eb42-c336-4621-e6ca-f6d94335171b"
      },
      "execution_count": 4,
      "outputs": [
        {
          "output_type": "stream",
          "name": "stdout",
          "text": [
            "Hello Rudi\n"
          ]
        }
      ]
    },
    {
      "cell_type": "markdown",
      "source": [
        "## Data Structures: Lists and Dictionaries "
      ],
      "metadata": {
        "id": "haVkKzwesnXp"
      }
    }
  ]
}